{
  "nbformat": 4,
  "nbformat_minor": 0,
  "metadata": {
    "colab": {
      "provenance": [],
      "collapsed_sections": [
        "dK3vXlibcQG3",
        "XYgcz3N3eKbN",
        "PF8IQknSvSzX",
        "_O_Cwm6jJAts",
        "LIPPfy6q6Xsy",
        "nN1P2bIM-BFh"
      ]
    },
    "kernelspec": {
      "name": "python3",
      "display_name": "Python 3"
    },
    "language_info": {
      "name": "python"
    }
  },
  "cells": [
    {
      "cell_type": "markdown",
      "source": [
        "## Assignment - 3"
      ],
      "metadata": {
        "id": "s2cXCvJMb-br"
      }
    },
    {
      "cell_type": "markdown",
      "source": [
        "### Ques-1 :- Display “My Name Is James” as “My ** Name ** Is ** James” using output formatting of a print() function."
      ],
      "metadata": {
        "id": "dK3vXlibcQG3"
      }
    },
    {
      "cell_type": "code",
      "source": [
        "name = input(\"Enter your name please = \")    # Here name is a variable which takes the name from the user and store in it"
      ],
      "metadata": {
        "colab": {
          "base_uri": "https://localhost:8080/"
        },
        "id": "c8muHVspc5PV",
        "outputId": "d83aeec7-fba0-4599-dad2-7a7d719b848b"
      },
      "execution_count": null,
      "outputs": [
        {
          "name": "stdout",
          "output_type": "stream",
          "text": [
            "Enter your name please = Mohak\n"
          ]
        }
      ]
    },
    {
      "cell_type": "code",
      "source": [
        "print(\"My\",\"Name\",\"Is\",name,sep = '**')        # Here print function print the string formatting as we required"
      ],
      "metadata": {
        "colab": {
          "base_uri": "https://localhost:8080/"
        },
        "id": "06hvXZj9dEaY",
        "outputId": "eea60516-eb73-45b3-b203-ef283dad793c"
      },
      "execution_count": null,
      "outputs": [
        {
          "output_type": "stream",
          "name": "stdout",
          "text": [
            "My**Name**Is**Mohak\n"
          ]
        }
      ]
    },
    {
      "cell_type": "markdown",
      "source": [
        "### Ques-2 :- Write a Python program that prints all the numbers from 0 to 6 except 3 ."
      ],
      "metadata": {
        "id": "XYgcz3N3eKbN"
      }
    },
    {
      "cell_type": "code",
      "source": [
        "num = int(input(\"Enter the last number from 0 to \"))            # Here num variable takes integer input from user for the last element we want to print series"
      ],
      "metadata": {
        "colab": {
          "base_uri": "https://localhost:8080/"
        },
        "id": "lIKsdkYkfQI0",
        "outputId": "da7459cb-37b4-468e-e68e-2cb431caca76"
      },
      "execution_count": null,
      "outputs": [
        {
          "name": "stdout",
          "output_type": "stream",
          "text": [
            "Enter the last number from 0 to 7\n"
          ]
        }
      ]
    },
    {
      "cell_type": "code",
      "source": [
        "for i in range(num):              # For loop is iterating to print series\n",
        "  if i == 3:\n",
        "    continue                      \n",
        "  print(i)"
      ],
      "metadata": {
        "colab": {
          "base_uri": "https://localhost:8080/"
        },
        "id": "6-LozEpofWH5",
        "outputId": "dd4e3e9c-f72a-4b83-c57a-27a5341fa1e9"
      },
      "execution_count": null,
      "outputs": [
        {
          "output_type": "stream",
          "name": "stdout",
          "text": [
            "0\n",
            "1\n",
            "2\n",
            "4\n",
            "5\n",
            "6\n"
          ]
        }
      ]
    },
    {
      "cell_type": "markdown",
      "source": [
        "### Ques-3 :- Concatenate two lists index-wise"
      ],
      "metadata": {
        "id": "PF8IQknSvSzX"
      }
    },
    {
      "cell_type": "markdown",
      "source": [
        "#### Importing the library intertools"
      ],
      "metadata": {
        "id": "acmsSATQHne7"
      }
    },
    {
      "cell_type": "code",
      "source": [
        "import itertools"
      ],
      "metadata": {
        "id": "xVlzfNgbvgbb"
      },
      "execution_count": null,
      "outputs": []
    },
    {
      "cell_type": "markdown",
      "source": [
        "#### Concatenating"
      ],
      "metadata": {
        "id": "OTz3bWYTIGZz"
      }
    },
    {
      "cell_type": "code",
      "source": [
        "Given_list1 = [\"I \",\"Pursuing\",\"i\",\"MSC(DSA)\"]   #Here Given_list1 is the given list and list are mutable and ordered\n",
        "Given_list2 = [\"am\", \"MBA\", \"n\"]                 #Here Given_list2 is the given list and list are mutable and ordered"
      ],
      "metadata": {
        "id": "zi6QDxuNGZYt"
      },
      "execution_count": null,
      "outputs": []
    },
    {
      "cell_type": "code",
      "source": [
        "for x, y in itertools.zip_longest(list1, list2 , fillvalue='.'):\n",
        "    print(x,y)"
      ],
      "metadata": {
        "id": "1kX10g7hwJbi",
        "colab": {
          "base_uri": "https://localhost:8080/"
        },
        "outputId": "c224f712-5a1b-4132-faa1-9489c26e472d"
      },
      "execution_count": null,
      "outputs": [
        {
          "output_type": "stream",
          "name": "stdout",
          "text": [
            "I am\n",
            "Pursuing MBA\n",
            "i n\n",
            "MSC(DSA) .\n"
          ]
        }
      ]
    },
    {
      "cell_type": "code",
      "source": [],
      "metadata": {
        "id": "ip8TyZbTwKCI"
      },
      "execution_count": null,
      "outputs": []
    },
    {
      "cell_type": "markdown",
      "source": [
        "### Ques-4 :- Iterate both lists simultaneously such that list1 should display item in original order and list2 in reverse order."
      ],
      "metadata": {
        "id": "_O_Cwm6jJAts"
      }
    },
    {
      "cell_type": "code",
      "source": [
        "Given_list1 = [\"I \",\"Pursuing\",\"i\",\"MSC(DSA)\"]   #Here Given_list1 is the given list and list are mutable and ordered\n",
        "Given_list2 = [\"am\", \"MBA\", \"n\"]                 #Here Given_list2 is the given list and list are mutable and ordered\n",
        "new_list = []"
      ],
      "metadata": {
        "id": "86BI-2vPJUAC"
      },
      "execution_count": 23,
      "outputs": []
    },
    {
      "cell_type": "code",
      "source": [
        "for i in range(0 , len(Given_list1) , 1):\n",
        "  new_list.append(Given_list1[i])\n",
        "\n",
        "for i in range(-1 , -len(Given_list2)-1 , -1):\n",
        "  new_list.append(Given_list2[i])\n",
        "\n",
        "print(\"New Concatenated list :-\",new_list)                                 #Here print function print the resultant output"
      ],
      "metadata": {
        "colab": {
          "base_uri": "https://localhost:8080/"
        },
        "id": "ziXlbJH3JbwW",
        "outputId": "ab9f2c82-ad78-40af-9d65-b66769850929"
      },
      "execution_count": 24,
      "outputs": [
        {
          "output_type": "stream",
          "name": "stdout",
          "text": [
            "New Concatenated list :- ['I ', 'Pursuing', 'i', 'MSC(DSA)', 'n', 'MBA', 'am']\n"
          ]
        }
      ]
    },
    {
      "cell_type": "code",
      "source": [],
      "metadata": {
        "id": "jbljlsXwKcnV"
      },
      "execution_count": null,
      "outputs": []
    },
    {
      "cell_type": "markdown",
      "source": [
        "### Ques-5 :- Copy element 44 and 55 from the above tuple into a new tuple ."
      ],
      "metadata": {
        "id": "LIPPfy6q6Xsy"
      }
    },
    {
      "cell_type": "code",
      "source": [
        "Given_tuple = (11, 22, 33, 44 , 55, 66,66)                #Here Given_tuple is a variable taking tuple as variable and Tuple are immutable but ordered"
      ],
      "metadata": {
        "id": "GPN9Wnd86c8Q"
      },
      "execution_count": 25,
      "outputs": []
    },
    {
      "cell_type": "code",
      "source": [
        "new_list = [x for x in Given_tuple if ((x == 44) or (x == 55))]    #new_list is copying element 44 and 55 from the given tuple\n",
        "new_tuple = tuple(new_list)                                        #Here new_tuple is variable in which new_list is converted to tuple\n",
        "print(\"New tuple after copying element 44 and 55 :-\",new_tuple)"
      ],
      "metadata": {
        "colab": {
          "base_uri": "https://localhost:8080/"
        },
        "id": "FVV0tdnu-Wk4",
        "outputId": "a1d55f27-5d5f-4713-e96d-c9abd4007db7"
      },
      "execution_count": 26,
      "outputs": [
        {
          "output_type": "stream",
          "name": "stdout",
          "text": [
            "New tuple after copying element 44 and 55 :- (44, 55)\n"
          ]
        }
      ]
    },
    {
      "cell_type": "markdown",
      "source": [
        "### Ques-6 :- Counts the number of occurrences of item 66 from a given tuple."
      ],
      "metadata": {
        "id": "nN1P2bIM-BFh"
      }
    },
    {
      "cell_type": "code",
      "source": [
        "Given_tuple = (11, 22, 33, 44 , 55, 66,66)                #Here Given_tuple is a variable taking tuple as variable and Tuple are immutable but ordered"
      ],
      "metadata": {
        "id": "fqCVy1gd-PW3"
      },
      "execution_count": 13,
      "outputs": []
    },
    {
      "cell_type": "code",
      "source": [
        "print(\"66 occured\",Given_tuple.count(66),\"times\")"
      ],
      "metadata": {
        "colab": {
          "base_uri": "https://localhost:8080/"
        },
        "id": "oc3IWtGu-qJ9",
        "outputId": "1759305b-8241-4b3a-d956-faab9dae5dd7"
      },
      "execution_count": 16,
      "outputs": [
        {
          "output_type": "stream",
          "name": "stdout",
          "text": [
            "66 occured 2 times\n"
          ]
        }
      ]
    },
    {
      "cell_type": "markdown",
      "source": [
        "### Ques-7 :- From given two lists convert it into the dictionary."
      ],
      "metadata": {
        "id": "A1rx3WFFARYq"
      }
    },
    {
      "cell_type": "code",
      "source": [
        "Given_keys = ['One', 'Two', 'Three']                    #Here Given_keys is a list and list can be identified as square bracket\n",
        "Given_values = [1, 2, 3]                                #Here Given_keys is a list and list can be identified as square bracket"
      ],
      "metadata": {
        "id": "pnKO7Ah7AQZp"
      },
      "execution_count": 28,
      "outputs": []
    },
    {
      "cell_type": "code",
      "source": [
        "res_dict = {}                                           #Here res_dict is a empty dictionary and Dictionary is a collection of key , value pair\n",
        "for key in Given_keys:\n",
        "    for value in Given_values:\n",
        "        res_dict[key] = value\n",
        "        Given_values.remove(value)\n",
        "        break  \n",
        "print (\"Resultant dictionary is : \" +  str(res_dict))"
      ],
      "metadata": {
        "colab": {
          "base_uri": "https://localhost:8080/"
        },
        "id": "HcmfR0_HAnoh",
        "outputId": "7dab4257-fd07-47c3-d7b9-336799b955d6"
      },
      "execution_count": 29,
      "outputs": [
        {
          "output_type": "stream",
          "name": "stdout",
          "text": [
            "Resultant dictionary is : {'One': 1, 'Two': 2, 'Three': 3}\n"
          ]
        }
      ]
    },
    {
      "cell_type": "markdown",
      "source": [
        "### Ques-8 :- Check if a value 2 exists in a dictionary."
      ],
      "metadata": {
        "id": "MXS5hkFmBlno"
      }
    },
    {
      "cell_type": "code",
      "source": [
        "Given_dict = res_dict                                     #Here Given_dict is a dictionary which is taking value from above res_dict"
      ],
      "metadata": {
        "id": "elDvw7VCCp2K"
      },
      "execution_count": 30,
      "outputs": []
    },
    {
      "cell_type": "code",
      "source": [
        "all_values = Given_dict.values()                          #Here all_values taking the Given_dict values not the key\n",
        "new_list = list(all_values)                               #Here new_list is taking value of converted list of all_values\n",
        "if 2 in new_list:\n",
        "  print(\"The value 2 is found\")\n",
        "else:\n",
        "  print(\"The value 2 is not found\")"
      ],
      "metadata": {
        "colab": {
          "base_uri": "https://localhost:8080/"
        },
        "id": "6tGfKQPkDPYA",
        "outputId": "36e04f96-854b-4c34-9bf6-0db271db22a2"
      },
      "execution_count": 34,
      "outputs": [
        {
          "output_type": "stream",
          "name": "stdout",
          "text": [
            "The value 2 is found\n"
          ]
        }
      ]
    }
  ]
}